{
 "cells": [
  {
   "cell_type": "code",
   "execution_count": null,
   "metadata": {},
   "outputs": [],
   "source": [
    "import numpy as np\n",
    "import tensorflow as tf\n",
    "\n",
    "from mnist import MNIST\n",
    "import pickle\n",
    "\n",
    "import matplotlib.pyplot as plt"
   ]
  },
  {
   "cell_type": "code",
   "execution_count": 3,
   "metadata": {},
   "outputs": [
    {
     "data": {
      "text/plain": [
       "'1.14.0'"
      ]
     },
     "execution_count": 3,
     "metadata": {},
     "output_type": "execute_result"
    }
   ],
   "source": [
    "tf.__version__"
   ]
  },
  {
   "cell_type": "code",
   "execution_count": null,
   "metadata": {},
   "outputs": [],
   "source": [
    "#We can create constants and variables of different types. \n",
    "#However, the different types do not mix well together.\n",
    "a = tf.constant(2, tf.int16)\n",
    "b = tf.constant(4, tf.float32)\n",
    "c = tf.constant(8, tf.float32)\n",
    "\n",
    "d = tf.Variable(2, tf.int16)\n",
    "e = tf.Variable(4, tf.float32)\n",
    "f = tf.Variable(8, tf.float32)\n",
    "\n",
    "#we can perform computations on variable of the same type: e + f\n",
    "#but the following can not be done: d + e\n",
    "\n",
    "#everything in tensorflow is a tensor, these can have different dimensions:\n",
    "#0D, 1D, 2D, 3D, 4D, or nD-tensors\n",
    "g = tf.constant(np.zeros(shape=(2,2), dtype=np.float32)) #does work\n",
    "\n",
    "h = tf.zeros([11], tf.int16)\n",
    "i = tf.ones([2,2], tf.float32)\n",
    "j = tf.zeros([1000,4,3], tf.float64)\n",
    "\n",
    "k = tf.Variable(tf.zeros([2,2], tf.float32))\n",
    "l = tf.Variable(tf.zeros([5,6,5], tf.float32))"
   ]
  },
  {
   "cell_type": "code",
   "execution_count": null,
   "metadata": {},
   "outputs": [],
   "source": [
    "weights = tf.Variable(tf.truncated_normal([256 * 256, 10]))\n",
    "biases = tf.Variable(tf.zeros([10]))\n",
    "print(weights.get_shape().as_list())\n",
    "print(biases.get_shape().as_list())"
   ]
  },
  {
   "cell_type": "code",
   "execution_count": null,
   "metadata": {},
   "outputs": [],
   "source": [
    "graph = tf.Graph()\n",
    "with graph.as_default():\n",
    "    a = tf.Variable(8, tf.float32, name=\"a\")\n",
    "    b = tf.Variable(tf.zeros([2,2], tf.float32))\n",
    "    \n",
    "\n",
    "with tf.Session(graph=graph) as session:\n",
    "    writer = tf.summary.FileWriter('./graph1', session.graph)\n",
    "    writer.close()\n",
    "\n",
    "with tf.Session(graph=graph) as session:\n",
    "    tf.global_variables_initializer().run()\n",
    "    print(a)\n",
    "    print(session.run(a))\n",
    "    print(b)\n",
    "    print(session.run(b))"
   ]
  },
  {
   "cell_type": "code",
   "execution_count": null,
   "metadata": {},
   "outputs": [],
   "source": [
    "list_of_points1_ = [[1,2], [3,4], [5,6], [7,8]]\n",
    "list_of_points2_ = [[15,16], [13,14], [11,12], [9,10]]\n",
    "list_of_points1 = np.array([np.array(elem).reshape(1,2) for elem in list_of_points1_])\n",
    "list_of_points2 = np.array([np.array(elem).reshape(1,2) for elem in list_of_points2_])\n",
    "\n",
    "graph = tf.Graph()\n",
    "with graph.as_default():\n",
    "    #we should use a tf.placeholder() to create a variable whose value you will fill in later (during session.run()). \n",
    "    #this can be done by 'feeding' the data into the placeholder.\n",
    "    #below we see an example of a method which uses two placeholder arrays of size [2,1] to calculate the eucledian distance\n",
    "\n",
    "    point1 = tf.placeholder(tf.float32, shape=(1, 2), name=\"p1\")\n",
    "    point2 = tf.placeholder(tf.float32, shape=(1, 2), name=\"p2\")\n",
    "    \n",
    "    def calculate_eucledian_distance(point1, point2):\n",
    "        difference = tf.subtract(point1, point2, \"dif1\")\n",
    "        power2 = tf.pow(difference, tf.constant(2.0, shape=(1,2), name=\"powr2\"), name=\"pow1\")\n",
    "        add = tf.reduce_sum(power2, name=\"add1\")\n",
    "        eucledian_distance = tf.sqrt(add, name=\"euc1\")\n",
    "        return eucledian_distance\n",
    "    \n",
    "    dist = calculate_eucledian_distance(point1, point2)\n",
    "    \n",
    "\n",
    "\n",
    "with tf.Session(graph=graph) as session:\n",
    "    writer = tf.summary.FileWriter('./graph2', session.graph)\n",
    "    writer.close()\n",
    "\n",
    "\n",
    "    \n",
    "with tf.Session(graph=graph) as session:\n",
    "    tf.global_variables_initializer().run()\n",
    "    for ii in range(len(list_of_points1)):\n",
    "        point1_ = list_of_points1[ii]\n",
    "        point2_ = list_of_points2[ii]\n",
    "        feed_dict = {point1 : point1_, point2 : point2_}\n",
    "        distance = session.run([dist], feed_dict=feed_dict)\n",
    "        print(\"the distance between {} and {} -> {}\".format(point1_, point2_, distance))\n"
   ]
  },
  {
   "cell_type": "code",
   "execution_count": null,
   "metadata": {},
   "outputs": [],
   "source": [
    "print(list_of_points1.shape)"
   ]
  },
  {
   "cell_type": "code",
   "execution_count": null,
   "metadata": {},
   "outputs": [],
   "source": [
    "print(session._closed)"
   ]
  },
  {
   "cell_type": "code",
   "execution_count": null,
   "metadata": {},
   "outputs": [],
   "source": [
    "print(tf.shape(dist))"
   ]
  },
  {
   "cell_type": "code",
   "execution_count": null,
   "metadata": {},
   "outputs": [],
   "source": [
    "def randomize(dataset, labels):\n",
    "    permutation = np.random.permutation(labels.shape[0])\n",
    "    shuffled_dataset = dataset[permutation, :, :]\n",
    "    shuffled_labels = labels[permutation]\n",
    "    return shuffled_dataset, shuffled_labels\n",
    "\n",
    "def one_hot_encode(np_array):\n",
    "    return (np.arange(10) == np_array[:,None]).astype(np.float32)\n",
    "\n",
    "def reformat_data(dataset, labels, image_width, image_height, image_depth):\n",
    "    np_dataset_ = np.array([np.array(image_data).reshape(image_width, image_height, image_depth) for image_data in dataset])\n",
    "    np_labels_ = one_hot_encode(np.array(labels, dtype=np.float32))\n",
    "    np_dataset, np_labels = randomize(np_dataset_, np_labels_)\n",
    "    return np_dataset, np_labels\n",
    "\n",
    "def flatten_tf_array(array):\n",
    "    shape = array.get_shape().as_list()\n",
    "    return tf.reshape(array, [shape[0], shape[1] * shape[2] * shape[3]])\n",
    "\n",
    "def accuracy(predictions, labels):\n",
    "    return (100.0 * np.sum(np.argmax(predictions, 1) == np.argmax(labels, 1)) / predictions.shape[0])"
   ]
  },
  {
   "cell_type": "code",
   "execution_count": 189,
   "metadata": {},
   "outputs": [
    {
     "data": {
      "text/plain": [
       "[60000, 28, 28, 1]"
      ]
     },
     "execution_count": 189,
     "metadata": {},
     "output_type": "execute_result"
    }
   ],
   "source": [
    "tf.constant(train_dataset).get_shape().as_list()"
   ]
  },
  {
   "cell_type": "code",
   "execution_count": null,
   "metadata": {},
   "outputs": [],
   "source": [
    "aa = np.arange(10)\n",
    "\n",
    "print(aa)"
   ]
  },
  {
   "cell_type": "code",
   "execution_count": null,
   "metadata": {},
   "outputs": [],
   "source": [
    "mnist_folder = './data/mnist/'\n",
    "mnist_image_width = 28\n",
    "mnist_image_height = 28\n",
    "mnist_image_depth = 1\n",
    "mnist_num_labels = 10\n",
    "\n",
    "mndata = MNIST(mnist_folder)\n",
    "\n",
    "mnist_train_dataset_, mnist_train_labels_ = mndata.load_training()\n",
    "mnist_test_dataset_, mnist_test_labels_ = mndata.load_testing()"
   ]
  },
  {
   "cell_type": "code",
   "execution_count": null,
   "metadata": {},
   "outputs": [],
   "source": [
    "print(len(mnist_train_dataset_))\n",
    "print(len(mnist_train_dataset_[0]))  #28x28 image\n",
    "print(mnist_train_dataset_[0][:200])"
   ]
  },
  {
   "cell_type": "code",
   "execution_count": null,
   "metadata": {},
   "outputs": [],
   "source": [
    "mnist_train_dataset, mnist_train_labels = reformat_data(mnist_train_dataset_, mnist_train_labels_, mnist_image_width, mnist_image_height, mnist_image_depth)\n",
    "mnist_test_dataset, mnist_test_labels = reformat_data(mnist_test_dataset_, mnist_test_labels_, mnist_image_width, mnist_image_height, mnist_image_depth)"
   ]
  },
  {
   "cell_type": "code",
   "execution_count": null,
   "metadata": {},
   "outputs": [],
   "source": [
    "print(type(mnist_train_dataset))\n",
    "print(mnist_train_dataset.shape)"
   ]
  },
  {
   "cell_type": "code",
   "execution_count": null,
   "metadata": {},
   "outputs": [],
   "source": [
    "print(type( mnist_train_labels))\n",
    "print( mnist_train_labels.shape)\n",
    "\n",
    "print( mnist_train_labels[:10,])"
   ]
  },
  {
   "cell_type": "code",
   "execution_count": null,
   "metadata": {},
   "outputs": [],
   "source": [
    "print(mnist_test_labels.shape)"
   ]
  },
  {
   "cell_type": "code",
   "execution_count": null,
   "metadata": {},
   "outputs": [],
   "source": [
    "# from mnist import MNIST\n",
    "\n",
    "mnist_folder = './data/mnist/'\n",
    "mnist_image_width = 28\n",
    "mnist_image_height = 28\n",
    "mnist_image_depth = 1\n",
    "mnist_num_labels = 10\n",
    "\n",
    "mndata = MNIST(mnist_folder)\n",
    "mnist_train_dataset_, mnist_train_labels_ = mndata.load_training()\n",
    "mnist_test_dataset_, mnist_test_labels_ = mndata.load_testing()\n",
    "\n",
    "mnist_train_dataset, mnist_train_labels = reformat_data(mnist_train_dataset_, mnist_train_labels_, mnist_image_width, mnist_image_height, mnist_image_depth)\n",
    "mnist_test_dataset, mnist_test_labels = reformat_data(mnist_test_dataset_, mnist_test_labels_, mnist_image_width, mnist_image_height, mnist_image_depth)\n",
    "\n",
    "print(\"There are {} images, each of size {}\".format(len(mnist_train_dataset), len(mnist_train_dataset[0])))\n",
    "print(\"Meaning each image has the size of 28*28*1 = {}\".format(mnist_image_width*mnist_image_height*1))\n",
    "print(\"The training set contains the following {} labels: {}\".format(len(np.unique(mnist_train_labels_)), np.unique(mnist_train_labels_)))\n",
    "\n",
    "print('Training set shape', mnist_train_dataset.shape, mnist_train_labels.shape)\n",
    "print('Test set shape', mnist_test_dataset.shape, mnist_test_labels.shape)\n",
    "\n",
    "train_dataset_mnist, train_labels_mnist = mnist_train_dataset, mnist_train_labels\n",
    "test_dataset_mnist, test_labels_mnist = mnist_test_dataset, mnist_test_labels\n",
    "\n",
    "######################################################################################\n",
    "\n",
    "# cifar10_folder = './data/cifar10/'\n",
    "# train_datasets = ['data_batch_1', 'data_batch_2', 'data_batch_3', 'data_batch_4', 'data_batch_5', ]\n",
    "# test_dataset = ['test_batch']\n",
    "# c10_image_height = 32\n",
    "# c10_image_width = 32\n",
    "# c10_image_depth = 3\n",
    "# c10_num_labels = 10\n",
    "\n",
    "# with open(cifar10_folder + test_dataset[0], 'rb') as f0:\n",
    "#     c10_test_dict = pickle.load(f0, encoding='bytes')\n",
    "\n",
    "# c10_test_dataset, c10_test_labels = c10_test_dict[b'data'], c10_test_dict[b'labels']\n",
    "# test_dataset_cifar10, test_labels_cifar10 = reformat_data(c10_test_dataset, c10_test_labels, c10_image_width, c10_image_height, c10_image_depth)\n",
    "\n",
    "# c10_train_dataset, c10_train_labels = [], []\n",
    "# for train_dataset in train_datasets:\n",
    "#     with open(cifar10_folder + train_dataset, 'rb') as f0:\n",
    "#         c10_train_dict = pickle.load(f0, encoding='bytes')\n",
    "#         c10_train_dataset_, c10_train_labels_ = c10_train_dict[b'data'], c10_train_dict[b'labels']\n",
    " \n",
    "#         c10_train_dataset.append(c10_train_dataset_)\n",
    "#         c10_train_labels += c10_train_labels_\n",
    "\n",
    "# c10_train_dataset = np.concatenate(c10_train_dataset, axis=0)\n",
    "# train_dataset_cifar10, train_labels_cifar10 = reformat_data(c10_train_dataset, c10_train_labels, c10_image_width, c10_image_height, c10_image_depth)\n",
    "# del c10_train_dataset\n",
    "# del c10_train_labels\n",
    "\n",
    "# print(\"The training set contains the following labels: {}\".format(np.unique(c10_train_dict[b'labels'])))\n",
    "# print('Training set shape', train_dataset_cifar10.shape, train_labels_cifar10.shape)\n",
    "# print('Test set shape', test_dataset_cifar10.shape, test_labels_cifar10.shape)"
   ]
  },
  {
   "cell_type": "code",
   "execution_count": null,
   "metadata": {},
   "outputs": [],
   "source": [
    "image_width = mnist_image_width\n",
    "image_height = mnist_image_height\n",
    "image_depth = mnist_image_depth\n",
    "num_labels = mnist_num_labels \n",
    "\n",
    "#the dataset\n",
    "train_dataset = mnist_train_dataset\n",
    "train_labels = mnist_train_labels \n",
    "test_dataset = mnist_test_dataset\n",
    "test_labels = mnist_test_labels \n",
    "\n",
    "#number of iterations and learning rate\n",
    "num_steps = 10001\n",
    "display_step = 1000\n",
    "learning_rate = 0.5\n",
    "batch_size = 32"
   ]
  },
  {
   "cell_type": "code",
   "execution_count": 179,
   "metadata": {},
   "outputs": [],
   "source": [
    "offset = []\n",
    "for step in range(num_steps):\n",
    "    offset.append((step * batch_size) % (train_labels.shape[0] - batch_size))\n",
    "#     print(offset)"
   ]
  },
  {
   "cell_type": "code",
   "execution_count": 181,
   "metadata": {},
   "outputs": [
    {
     "name": "stdout",
     "output_type": "stream",
     "text": [
      "10001\n"
     ]
    }
   ],
   "source": [
    "print(len(offset))"
   ]
  },
  {
   "cell_type": "code",
   "execution_count": 185,
   "metadata": {},
   "outputs": [
    {
     "data": {
      "text/plain": [
       "[<matplotlib.lines.Line2D at 0x22ae7e579e8>]"
      ]
     },
     "execution_count": 185,
     "metadata": {},
     "output_type": "execute_result"
    },
    {
     "data": {
      "image/png": "[encoded data removed]",
      "text/plain": [
       "<Figure size 432x288 with 1 Axes>"
      ]
     },
     "metadata": {
      "needs_background": "light"
     },
     "output_type": "display_data"
    }
   ],
   "source": [
    "plt.plot(offset)"
   ]
  },
  {
   "cell_type": "code",
   "execution_count": 168,
   "metadata": {},
   "outputs": [
    {
     "name": "stdout",
     "output_type": "stream",
     "text": [
      "20160\n",
      "32\n",
      "320000\n",
      "60000\n",
      "59968\n"
     ]
    }
   ],
   "source": [
    "offset = (10000 * batch_size) % (train_labels.shape[0] - batch_size)\n",
    "\n",
    "print(offset)\n",
    "\n",
    "print(batch_size)\n",
    "\n",
    "print(10000 * batch_size)\n",
    "\n",
    "print(train_labels.shape[0])\n",
    "\n",
    "print(train_labels.shape[0] - batch_size)"
   ]
  },
  {
   "cell_type": "code",
   "execution_count": 186,
   "metadata": {},
   "outputs": [
    {
     "name": "stdout",
     "output_type": "stream",
     "text": [
      "(60000, 28, 28, 1)\n"
     ]
    }
   ],
   "source": [
    "print(train_dataset.shape)"
   ]
  },
  {
   "cell_type": "code",
   "execution_count": 190,
   "metadata": {},
   "outputs": [
    {
     "name": "stdout",
     "output_type": "stream",
     "text": [
      "(60000, 10)\n"
     ]
    }
   ],
   "source": [
    "print(train_labels.shape)"
   ]
  },
  {
   "cell_type": "code",
   "execution_count": 191,
   "metadata": {},
   "outputs": [
    {
     "name": "stdout",
     "output_type": "stream",
     "text": [
      "(10000, 10)\n"
     ]
    }
   ],
   "source": [
    "print(test_labels.shape)"
   ]
  },
  {
   "cell_type": "code",
   "execution_count": 197,
   "metadata": {},
   "outputs": [
    {
     "name": "stdout",
     "output_type": "stream",
     "text": [
      "[10000, 28, 28, 1]\n"
     ]
    }
   ],
   "source": [
    "print(tf_test_dataset.get_shape().as_list())"
   ]
  },
  {
   "cell_type": "code",
   "execution_count": 202,
   "metadata": {},
   "outputs": [
    {
     "name": "stdout",
     "output_type": "stream",
     "text": [
      "[10000, 10]\n"
     ]
    }
   ],
   "source": [
    "print(test_prediction.get_shape().as_list())"
   ]
  },
  {
   "cell_type": "code",
   "execution_count": 203,
   "metadata": {},
   "outputs": [
    {
     "name": "stdout",
     "output_type": "stream",
     "text": [
      "Initialized\n",
      "step 0000 : loss is 6242.35, accuracy on training set 3.12 %, accuracy on test set 21.59 %\n",
      "step 1000 : loss is 10386.96, accuracy on training set 90.62 %, accuracy on test set 82.59 %\n",
      "step 2000 : loss is 2835.85, accuracy on training set 90.62 %, accuracy on test set 86.03 %\n",
      "step 3000 : loss is 8463.08, accuracy on training set 87.50 %, accuracy on test set 82.85 %\n",
      "step 4000 : loss is 4352.61, accuracy on training set 87.50 %, accuracy on test set 86.25 %\n",
      "step 5000 : loss is 24092.93, accuracy on training set 87.50 %, accuracy on test set 88.73 %\n",
      "step 6000 : loss is 12096.09, accuracy on training set 90.62 %, accuracy on test set 89.41 %\n",
      "step 7000 : loss is 2649.42, accuracy on training set 93.75 %, accuracy on test set 91.07 %\n",
      "step 8000 : loss is 2693.52, accuracy on training set 96.88 %, accuracy on test set 88.62 %\n",
      "step 9000 : loss is 11871.29, accuracy on training set 90.62 %, accuracy on test set 87.93 %\n",
      "step 10000 : loss is 18648.36, accuracy on training set 84.38 %, accuracy on test set 87.40 %\n"
     ]
    }
   ],
   "source": [
    "image_width = mnist_image_width\n",
    "image_height = mnist_image_height\n",
    "image_depth = mnist_image_depth\n",
    "num_labels = mnist_num_labels\n",
    "\n",
    "#the dataset\n",
    "train_dataset = mnist_train_dataset\n",
    "train_labels = mnist_train_labels\n",
    "test_dataset = mnist_test_dataset\n",
    "test_labels = mnist_test_labels\n",
    "\n",
    "#number of iterations and learning rate\n",
    "num_steps = 10001\n",
    "display_step = 1000\n",
    "learning_rate = 0.5\n",
    "batch_size = 32\n",
    "\n",
    "graph = tf.Graph()\n",
    "with graph.as_default():\n",
    "    #1) First we put the input data in a tensorflow friendly form. \n",
    "    tf_train_dataset = tf.placeholder(tf.float32, shape=(batch_size, image_width, image_height, image_depth))\n",
    "    tf_train_labels = tf.placeholder(tf.float32, shape = (batch_size, num_labels))\n",
    "    tf_test_dataset = tf.constant(test_dataset, tf.float32)\n",
    "  \n",
    "    #2) Then, the weight matrices and bias vectors are initialized\n",
    "    #as a default, tf.truncated_normal() is used for the weight matrix and tf.zeros() is used for the bias vector.\n",
    "    weights = tf.Variable(tf.truncated_normal([image_width * image_height * image_depth, num_labels]), tf.float32)\n",
    "    bias = tf.Variable(tf.zeros([num_labels]), tf.float32)\n",
    "  \n",
    "    #3) define the model:\n",
    "    #A one layered fccd simply consists of a matrix multiplication\n",
    "    def model(data, weights, bias):\n",
    "        return tf.matmul(flatten_tf_array(data), weights) + bias\n",
    "\n",
    "    logits = model(tf_train_dataset, weights, bias)\n",
    "\n",
    "    #4) calculate the loss, which will be used in the optimization of the weights\n",
    "    loss = tf.reduce_mean(tf.nn.softmax_cross_entropy_with_logits(logits=logits, labels=tf_train_labels))\n",
    "\n",
    "    #5) Choose an optimizer. Many are available.\n",
    "    optimizer = tf.train.GradientDescentOptimizer(learning_rate).minimize(loss)\n",
    "\n",
    "    #6) The predicted values for the images in the train dataset and test dataset are assigned to the variables train_prediction and test_prediction. \n",
    "    #It is only necessary if you want to know the accuracy by comparing it with the actual values. \n",
    "    train_prediction = tf.nn.softmax(logits)\n",
    "    test_prediction = tf.nn.softmax(model(tf_test_dataset, weights, bias))\n",
    "\n",
    "\n",
    "# with tf.Session(graph=graph) as sess:\n",
    "#     writer = tf.summary.FileWriter(\"./graph3\", sess.graph)\n",
    "#     writer.close\n",
    "\n",
    "\n",
    "with tf.Session(graph=graph) as session:\n",
    "    tf.global_variables_initializer().run()\n",
    "    print('Initialized')\n",
    "    for step in range(num_steps):\n",
    "        \n",
    "        offset = (step * batch_size) % (train_labels.shape[0] - batch_size)\n",
    "        batch_data = train_dataset[offset:(offset + batch_size), :, :, :]\n",
    "        batch_labels = train_labels[offset:(offset + batch_size), :]\n",
    "\n",
    "        feed_dict = {tf_train_dataset : batch_data, tf_train_labels : batch_labels}\n",
    "        \n",
    "        _, l, predictions = session.run([optimizer, loss, train_prediction], feed_dict=feed_dict)\n",
    "        if (step % display_step == 0):\n",
    "            train_accuracy = accuracy(predictions, batch_labels[:, :])\n",
    "            test_accuracy = accuracy(test_prediction.eval(), test_labels)\n",
    "            message = \"step {:04d} : loss is {:06.2f}, accuracy on training set {:02.2f} %, accuracy on test set {:02.2f} %\".format(step, l, train_accuracy, test_accuracy)\n",
    "            print(message)"
   ]
  },
  {
   "cell_type": "code",
   "execution_count": null,
   "metadata": {},
   "outputs": [],
   "source": []
  }
 ],
 "metadata": {
  "kernelspec": {
   "display_name": "Python 3",
   "language": "python",
   "name": "python3"
  },
  "language_info": {
   "codemirror_mode": {
    "name": "ipython",
    "version": 3
   },
   "file_extension": ".py",
   "mimetype": "text/x-python",
   "name": "python",
   "nbconvert_exporter": "python",
   "pygments_lexer": "ipython3",
   "version": "3.6.8"
  }
 },
 "nbformat": 4,
 "nbformat_minor": 4
}
